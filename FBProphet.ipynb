{
  "nbformat": 4,
  "nbformat_minor": 0,
  "metadata": {
    "colab": {
      "name": "FBProphet.ipynb",
      "provenance": [],
      "collapsed_sections": []
    },
    "kernelspec": {
      "name": "python3",
      "display_name": "Python 3"
    },
    "language_info": {
      "name": "python"
    }
  },
  "cells": [
    {
      "cell_type": "code",
      "metadata": {
        "id": "zC74M7BvOD8x"
      },
      "source": [
        "import pandas as pd\n",
        "from fbprophet import Prophet"
      ],
      "execution_count": 2,
      "outputs": []
    },
    {
      "cell_type": "code",
      "metadata": {
        "id": "tYx2iQzAOJc2"
      },
      "source": [
        "df = pd.read_csv('BeerWineLiquor.csv')"
      ],
      "execution_count": 2,
      "outputs": []
    },
    {
      "cell_type": "code",
      "metadata": {
        "colab": {
          "base_uri": "https://localhost:8080/",
          "height": 195
        },
        "id": "GyEnWCY5OkK2",
        "outputId": "e07c476e-142f-4211-ddf3-808bcf65bf78"
      },
      "source": [
        "df.head()"
      ],
      "execution_count": 3,
      "outputs": [
        {
          "output_type": "execute_result",
          "data": {
            "text/html": [
              "<div>\n",
              "<style scoped>\n",
              "    .dataframe tbody tr th:only-of-type {\n",
              "        vertical-align: middle;\n",
              "    }\n",
              "\n",
              "    .dataframe tbody tr th {\n",
              "        vertical-align: top;\n",
              "    }\n",
              "\n",
              "    .dataframe thead th {\n",
              "        text-align: right;\n",
              "    }\n",
              "</style>\n",
              "<table border=\"1\" class=\"dataframe\">\n",
              "  <thead>\n",
              "    <tr style=\"text-align: right;\">\n",
              "      <th></th>\n",
              "      <th>date</th>\n",
              "      <th>beer</th>\n",
              "    </tr>\n",
              "  </thead>\n",
              "  <tbody>\n",
              "    <tr>\n",
              "      <th>0</th>\n",
              "      <td>1/1/1992</td>\n",
              "      <td>1509</td>\n",
              "    </tr>\n",
              "    <tr>\n",
              "      <th>1</th>\n",
              "      <td>2/1/1992</td>\n",
              "      <td>1541</td>\n",
              "    </tr>\n",
              "    <tr>\n",
              "      <th>2</th>\n",
              "      <td>3/1/1992</td>\n",
              "      <td>1597</td>\n",
              "    </tr>\n",
              "    <tr>\n",
              "      <th>3</th>\n",
              "      <td>4/1/1992</td>\n",
              "      <td>1675</td>\n",
              "    </tr>\n",
              "    <tr>\n",
              "      <th>4</th>\n",
              "      <td>5/1/1992</td>\n",
              "      <td>1822</td>\n",
              "    </tr>\n",
              "  </tbody>\n",
              "</table>\n",
              "</div>"
            ],
            "text/plain": [
              "       date  beer\n",
              "0  1/1/1992  1509\n",
              "1  2/1/1992  1541\n",
              "2  3/1/1992  1597\n",
              "3  4/1/1992  1675\n",
              "4  5/1/1992  1822"
            ]
          },
          "metadata": {
            "tags": []
          },
          "execution_count": 3
        }
      ]
    },
    {
      "cell_type": "code",
      "metadata": {
        "id": "wFrEDVZrOmXk"
      },
      "source": [
        "df.columns = ['ds','y']"
      ],
      "execution_count": 4,
      "outputs": []
    },
    {
      "cell_type": "code",
      "metadata": {
        "id": "8F3Fhx_EOohF"
      },
      "source": [
        "df['ds'] = pd.to_datetime(df['ds'])"
      ],
      "execution_count": 5,
      "outputs": []
    },
    {
      "cell_type": "code",
      "metadata": {
        "colab": {
          "base_uri": "https://localhost:8080/"
        },
        "id": "9jSNLOm5Oscs",
        "outputId": "1c22c981-79e0-4a6a-f276-5792c82b7e65"
      },
      "source": [
        "m = Prophet()\n",
        "m.fit(df)"
      ],
      "execution_count": 6,
      "outputs": [
        {
          "output_type": "stream",
          "text": [
            "INFO:numexpr.utils:NumExpr defaulting to 2 threads.\n",
            "INFO:fbprophet:Disabling weekly seasonality. Run prophet with weekly_seasonality=True to override this.\n",
            "INFO:fbprophet:Disabling daily seasonality. Run prophet with daily_seasonality=True to override this.\n"
          ],
          "name": "stderr"
        },
        {
          "output_type": "execute_result",
          "data": {
            "text/plain": [
              "<fbprophet.forecaster.Prophet at 0x7fa84f449750>"
            ]
          },
          "metadata": {
            "tags": []
          },
          "execution_count": 6
        }
      ]
    },
    {
      "cell_type": "markdown",
      "metadata": {
        "id": "oenX4omKO9BW"
      },
      "source": [
        "NOTE: Prophet by default is for daily data. You need to pass a frequency for sub-daily or monthly data."
      ]
    },
    {
      "cell_type": "code",
      "metadata": {
        "id": "3NbZC3WBO0ND"
      },
      "source": [
        "future = m.make_future_dataframe(periods=24,freq = 'MS')"
      ],
      "execution_count": 7,
      "outputs": []
    },
    {
      "cell_type": "code",
      "metadata": {
        "colab": {
          "base_uri": "https://localhost:8080/",
          "height": 195
        },
        "id": "JgL8RoCxPBQd",
        "outputId": "226c84a2-2e52-4520-cd97-a3557d4f84dc"
      },
      "source": [
        "df.tail()"
      ],
      "execution_count": 8,
      "outputs": [
        {
          "output_type": "execute_result",
          "data": {
            "text/html": [
              "<div>\n",
              "<style scoped>\n",
              "    .dataframe tbody tr th:only-of-type {\n",
              "        vertical-align: middle;\n",
              "    }\n",
              "\n",
              "    .dataframe tbody tr th {\n",
              "        vertical-align: top;\n",
              "    }\n",
              "\n",
              "    .dataframe thead th {\n",
              "        text-align: right;\n",
              "    }\n",
              "</style>\n",
              "<table border=\"1\" class=\"dataframe\">\n",
              "  <thead>\n",
              "    <tr style=\"text-align: right;\">\n",
              "      <th></th>\n",
              "      <th>ds</th>\n",
              "      <th>y</th>\n",
              "    </tr>\n",
              "  </thead>\n",
              "  <tbody>\n",
              "    <tr>\n",
              "      <th>319</th>\n",
              "      <td>2018-08-01</td>\n",
              "      <td>4898</td>\n",
              "    </tr>\n",
              "    <tr>\n",
              "      <th>320</th>\n",
              "      <td>2018-09-01</td>\n",
              "      <td>4598</td>\n",
              "    </tr>\n",
              "    <tr>\n",
              "      <th>321</th>\n",
              "      <td>2018-10-01</td>\n",
              "      <td>4737</td>\n",
              "    </tr>\n",
              "    <tr>\n",
              "      <th>322</th>\n",
              "      <td>2018-11-01</td>\n",
              "      <td>5130</td>\n",
              "    </tr>\n",
              "    <tr>\n",
              "      <th>323</th>\n",
              "      <td>2018-12-01</td>\n",
              "      <td>6370</td>\n",
              "    </tr>\n",
              "  </tbody>\n",
              "</table>\n",
              "</div>"
            ],
            "text/plain": [
              "            ds     y\n",
              "319 2018-08-01  4898\n",
              "320 2018-09-01  4598\n",
              "321 2018-10-01  4737\n",
              "322 2018-11-01  5130\n",
              "323 2018-12-01  6370"
            ]
          },
          "metadata": {
            "tags": []
          },
          "execution_count": 8
        }
      ]
    },
    {
      "cell_type": "code",
      "metadata": {
        "colab": {
          "base_uri": "https://localhost:8080/",
          "height": 195
        },
        "id": "dcz7etxtPDSn",
        "outputId": "a11e0d56-f3b1-467f-9282-2ec47d714e72"
      },
      "source": [
        "future.tail()"
      ],
      "execution_count": 9,
      "outputs": [
        {
          "output_type": "execute_result",
          "data": {
            "text/html": [
              "<div>\n",
              "<style scoped>\n",
              "    .dataframe tbody tr th:only-of-type {\n",
              "        vertical-align: middle;\n",
              "    }\n",
              "\n",
              "    .dataframe tbody tr th {\n",
              "        vertical-align: top;\n",
              "    }\n",
              "\n",
              "    .dataframe thead th {\n",
              "        text-align: right;\n",
              "    }\n",
              "</style>\n",
              "<table border=\"1\" class=\"dataframe\">\n",
              "  <thead>\n",
              "    <tr style=\"text-align: right;\">\n",
              "      <th></th>\n",
              "      <th>ds</th>\n",
              "    </tr>\n",
              "  </thead>\n",
              "  <tbody>\n",
              "    <tr>\n",
              "      <th>343</th>\n",
              "      <td>2020-08-01</td>\n",
              "    </tr>\n",
              "    <tr>\n",
              "      <th>344</th>\n",
              "      <td>2020-09-01</td>\n",
              "    </tr>\n",
              "    <tr>\n",
              "      <th>345</th>\n",
              "      <td>2020-10-01</td>\n",
              "    </tr>\n",
              "    <tr>\n",
              "      <th>346</th>\n",
              "      <td>2020-11-01</td>\n",
              "    </tr>\n",
              "    <tr>\n",
              "      <th>347</th>\n",
              "      <td>2020-12-01</td>\n",
              "    </tr>\n",
              "  </tbody>\n",
              "</table>\n",
              "</div>"
            ],
            "text/plain": [
              "            ds\n",
              "343 2020-08-01\n",
              "344 2020-09-01\n",
              "345 2020-10-01\n",
              "346 2020-11-01\n",
              "347 2020-12-01"
            ]
          },
          "metadata": {
            "tags": []
          },
          "execution_count": 9
        }
      ]
    },
    {
      "cell_type": "code",
      "metadata": {
        "colab": {
          "base_uri": "https://localhost:8080/"
        },
        "id": "0WbvA2a8PHj6",
        "outputId": "0905e4c2-53c6-4a3c-eb93-c9c1643c1f9c"
      },
      "source": [
        "len(df)"
      ],
      "execution_count": 10,
      "outputs": [
        {
          "output_type": "execute_result",
          "data": {
            "text/plain": [
              "324"
            ]
          },
          "metadata": {
            "tags": []
          },
          "execution_count": 10
        }
      ]
    },
    {
      "cell_type": "code",
      "metadata": {
        "colab": {
          "base_uri": "https://localhost:8080/"
        },
        "id": "w71BWqB7PK59",
        "outputId": "e397dbd9-ad59-471d-d528-a7bfbcd2cc24"
      },
      "source": [
        "len(future)"
      ],
      "execution_count": 11,
      "outputs": [
        {
          "output_type": "execute_result",
          "data": {
            "text/plain": [
              "348"
            ]
          },
          "metadata": {
            "tags": []
          },
          "execution_count": 11
        }
      ]
    },
    {
      "cell_type": "code",
      "metadata": {
        "id": "6uBN0YaJPM62"
      },
      "source": [
        "forecast = m.predict(future)"
      ],
      "execution_count": 12,
      "outputs": []
    },
    {
      "cell_type": "code",
      "metadata": {
        "colab": {
          "base_uri": "https://localhost:8080/",
          "height": 299
        },
        "id": "vligOU3pPRnf",
        "outputId": "7f3e9f28-af8b-42a1-823c-235daa96aaff"
      },
      "source": [
        "forecast.head()"
      ],
      "execution_count": 13,
      "outputs": [
        {
          "output_type": "execute_result",
          "data": {
            "text/html": [
              "<div>\n",
              "<style scoped>\n",
              "    .dataframe tbody tr th:only-of-type {\n",
              "        vertical-align: middle;\n",
              "    }\n",
              "\n",
              "    .dataframe tbody tr th {\n",
              "        vertical-align: top;\n",
              "    }\n",
              "\n",
              "    .dataframe thead th {\n",
              "        text-align: right;\n",
              "    }\n",
              "</style>\n",
              "<table border=\"1\" class=\"dataframe\">\n",
              "  <thead>\n",
              "    <tr style=\"text-align: right;\">\n",
              "      <th></th>\n",
              "      <th>ds</th>\n",
              "      <th>trend</th>\n",
              "      <th>yhat_lower</th>\n",
              "      <th>yhat_upper</th>\n",
              "      <th>trend_lower</th>\n",
              "      <th>trend_upper</th>\n",
              "      <th>additive_terms</th>\n",
              "      <th>additive_terms_lower</th>\n",
              "      <th>additive_terms_upper</th>\n",
              "      <th>yearly</th>\n",
              "      <th>yearly_lower</th>\n",
              "      <th>yearly_upper</th>\n",
              "      <th>multiplicative_terms</th>\n",
              "      <th>multiplicative_terms_lower</th>\n",
              "      <th>multiplicative_terms_upper</th>\n",
              "      <th>yhat</th>\n",
              "    </tr>\n",
              "  </thead>\n",
              "  <tbody>\n",
              "    <tr>\n",
              "      <th>0</th>\n",
              "      <td>1992-01-01</td>\n",
              "      <td>1774.512619</td>\n",
              "      <td>1149.018886</td>\n",
              "      <td>1471.558199</td>\n",
              "      <td>1774.512619</td>\n",
              "      <td>1774.512619</td>\n",
              "      <td>-461.755050</td>\n",
              "      <td>-461.755050</td>\n",
              "      <td>-461.755050</td>\n",
              "      <td>-461.755050</td>\n",
              "      <td>-461.755050</td>\n",
              "      <td>-461.755050</td>\n",
              "      <td>0.0</td>\n",
              "      <td>0.0</td>\n",
              "      <td>0.0</td>\n",
              "      <td>1312.757569</td>\n",
              "    </tr>\n",
              "    <tr>\n",
              "      <th>1</th>\n",
              "      <td>1992-02-01</td>\n",
              "      <td>1777.322689</td>\n",
              "      <td>1180.581085</td>\n",
              "      <td>1496.518834</td>\n",
              "      <td>1777.322689</td>\n",
              "      <td>1777.322689</td>\n",
              "      <td>-427.146658</td>\n",
              "      <td>-427.146658</td>\n",
              "      <td>-427.146658</td>\n",
              "      <td>-427.146658</td>\n",
              "      <td>-427.146658</td>\n",
              "      <td>-427.146658</td>\n",
              "      <td>0.0</td>\n",
              "      <td>0.0</td>\n",
              "      <td>0.0</td>\n",
              "      <td>1350.176031</td>\n",
              "    </tr>\n",
              "    <tr>\n",
              "      <th>2</th>\n",
              "      <td>1992-03-01</td>\n",
              "      <td>1779.951464</td>\n",
              "      <td>1441.762339</td>\n",
              "      <td>1753.448692</td>\n",
              "      <td>1779.951464</td>\n",
              "      <td>1779.951464</td>\n",
              "      <td>-178.912314</td>\n",
              "      <td>-178.912314</td>\n",
              "      <td>-178.912314</td>\n",
              "      <td>-178.912314</td>\n",
              "      <td>-178.912314</td>\n",
              "      <td>-178.912314</td>\n",
              "      <td>0.0</td>\n",
              "      <td>0.0</td>\n",
              "      <td>0.0</td>\n",
              "      <td>1601.039150</td>\n",
              "    </tr>\n",
              "    <tr>\n",
              "      <th>3</th>\n",
              "      <td>1992-04-01</td>\n",
              "      <td>1782.761533</td>\n",
              "      <td>1436.524882</td>\n",
              "      <td>1742.554285</td>\n",
              "      <td>1782.761533</td>\n",
              "      <td>1782.761533</td>\n",
              "      <td>-196.056786</td>\n",
              "      <td>-196.056786</td>\n",
              "      <td>-196.056786</td>\n",
              "      <td>-196.056786</td>\n",
              "      <td>-196.056786</td>\n",
              "      <td>-196.056786</td>\n",
              "      <td>0.0</td>\n",
              "      <td>0.0</td>\n",
              "      <td>0.0</td>\n",
              "      <td>1586.704747</td>\n",
              "    </tr>\n",
              "    <tr>\n",
              "      <th>4</th>\n",
              "      <td>1992-05-01</td>\n",
              "      <td>1785.480956</td>\n",
              "      <td>1680.745827</td>\n",
              "      <td>1999.493065</td>\n",
              "      <td>1785.480956</td>\n",
              "      <td>1785.480956</td>\n",
              "      <td>45.197326</td>\n",
              "      <td>45.197326</td>\n",
              "      <td>45.197326</td>\n",
              "      <td>45.197326</td>\n",
              "      <td>45.197326</td>\n",
              "      <td>45.197326</td>\n",
              "      <td>0.0</td>\n",
              "      <td>0.0</td>\n",
              "      <td>0.0</td>\n",
              "      <td>1830.678281</td>\n",
              "    </tr>\n",
              "  </tbody>\n",
              "</table>\n",
              "</div>"
            ],
            "text/plain": [
              "          ds        trend  ...  multiplicative_terms_upper         yhat\n",
              "0 1992-01-01  1774.512619  ...                         0.0  1312.757569\n",
              "1 1992-02-01  1777.322689  ...                         0.0  1350.176031\n",
              "2 1992-03-01  1779.951464  ...                         0.0  1601.039150\n",
              "3 1992-04-01  1782.761533  ...                         0.0  1586.704747\n",
              "4 1992-05-01  1785.480956  ...                         0.0  1830.678281\n",
              "\n",
              "[5 rows x 16 columns]"
            ]
          },
          "metadata": {
            "tags": []
          },
          "execution_count": 13
        }
      ]
    },
    {
      "cell_type": "code",
      "metadata": {
        "colab": {
          "base_uri": "https://localhost:8080/",
          "height": 299
        },
        "id": "TVuoSsyNPUMr",
        "outputId": "02a25119-1fc0-44e4-b2fb-e5c2bec76387"
      },
      "source": [
        "forecast.tail()"
      ],
      "execution_count": 14,
      "outputs": [
        {
          "output_type": "execute_result",
          "data": {
            "text/html": [
              "<div>\n",
              "<style scoped>\n",
              "    .dataframe tbody tr th:only-of-type {\n",
              "        vertical-align: middle;\n",
              "    }\n",
              "\n",
              "    .dataframe tbody tr th {\n",
              "        vertical-align: top;\n",
              "    }\n",
              "\n",
              "    .dataframe thead th {\n",
              "        text-align: right;\n",
              "    }\n",
              "</style>\n",
              "<table border=\"1\" class=\"dataframe\">\n",
              "  <thead>\n",
              "    <tr style=\"text-align: right;\">\n",
              "      <th></th>\n",
              "      <th>ds</th>\n",
              "      <th>trend</th>\n",
              "      <th>yhat_lower</th>\n",
              "      <th>yhat_upper</th>\n",
              "      <th>trend_lower</th>\n",
              "      <th>trend_upper</th>\n",
              "      <th>additive_terms</th>\n",
              "      <th>additive_terms_lower</th>\n",
              "      <th>additive_terms_upper</th>\n",
              "      <th>yearly</th>\n",
              "      <th>yearly_lower</th>\n",
              "      <th>yearly_upper</th>\n",
              "      <th>multiplicative_terms</th>\n",
              "      <th>multiplicative_terms_lower</th>\n",
              "      <th>multiplicative_terms_upper</th>\n",
              "      <th>yhat</th>\n",
              "    </tr>\n",
              "  </thead>\n",
              "  <tbody>\n",
              "    <tr>\n",
              "      <th>343</th>\n",
              "      <td>2020-08-01</td>\n",
              "      <td>5200.687845</td>\n",
              "      <td>5081.612816</td>\n",
              "      <td>5403.518122</td>\n",
              "      <td>5189.749479</td>\n",
              "      <td>5213.350360</td>\n",
              "      <td>39.924918</td>\n",
              "      <td>39.924918</td>\n",
              "      <td>39.924918</td>\n",
              "      <td>39.924918</td>\n",
              "      <td>39.924918</td>\n",
              "      <td>39.924918</td>\n",
              "      <td>0.0</td>\n",
              "      <td>0.0</td>\n",
              "      <td>0.0</td>\n",
              "      <td>5240.612763</td>\n",
              "    </tr>\n",
              "    <tr>\n",
              "      <th>344</th>\n",
              "      <td>2020-09-01</td>\n",
              "      <td>5216.751615</td>\n",
              "      <td>4912.116197</td>\n",
              "      <td>5240.486149</td>\n",
              "      <td>5205.336634</td>\n",
              "      <td>5230.185037</td>\n",
              "      <td>-133.372206</td>\n",
              "      <td>-133.372206</td>\n",
              "      <td>-133.372206</td>\n",
              "      <td>-133.372206</td>\n",
              "      <td>-133.372206</td>\n",
              "      <td>-133.372206</td>\n",
              "      <td>0.0</td>\n",
              "      <td>0.0</td>\n",
              "      <td>0.0</td>\n",
              "      <td>5083.379410</td>\n",
              "    </tr>\n",
              "    <tr>\n",
              "      <th>345</th>\n",
              "      <td>2020-10-01</td>\n",
              "      <td>5232.297199</td>\n",
              "      <td>5020.108072</td>\n",
              "      <td>5344.628559</td>\n",
              "      <td>5220.180888</td>\n",
              "      <td>5246.542659</td>\n",
              "      <td>-43.375085</td>\n",
              "      <td>-43.375085</td>\n",
              "      <td>-43.375085</td>\n",
              "      <td>-43.375085</td>\n",
              "      <td>-43.375085</td>\n",
              "      <td>-43.375085</td>\n",
              "      <td>0.0</td>\n",
              "      <td>0.0</td>\n",
              "      <td>0.0</td>\n",
              "      <td>5188.922115</td>\n",
              "    </tr>\n",
              "    <tr>\n",
              "      <th>346</th>\n",
              "      <td>2020-11-01</td>\n",
              "      <td>5248.360970</td>\n",
              "      <td>5164.384449</td>\n",
              "      <td>5489.070742</td>\n",
              "      <td>5234.638199</td>\n",
              "      <td>5263.852213</td>\n",
              "      <td>87.856779</td>\n",
              "      <td>87.856779</td>\n",
              "      <td>87.856779</td>\n",
              "      <td>87.856779</td>\n",
              "      <td>87.856779</td>\n",
              "      <td>87.856779</td>\n",
              "      <td>0.0</td>\n",
              "      <td>0.0</td>\n",
              "      <td>0.0</td>\n",
              "      <td>5336.217749</td>\n",
              "    </tr>\n",
              "    <tr>\n",
              "      <th>347</th>\n",
              "      <td>2020-12-01</td>\n",
              "      <td>5263.906554</td>\n",
              "      <td>6156.933696</td>\n",
              "      <td>6488.031970</td>\n",
              "      <td>5249.104062</td>\n",
              "      <td>5280.714946</td>\n",
              "      <td>1070.533455</td>\n",
              "      <td>1070.533455</td>\n",
              "      <td>1070.533455</td>\n",
              "      <td>1070.533455</td>\n",
              "      <td>1070.533455</td>\n",
              "      <td>1070.533455</td>\n",
              "      <td>0.0</td>\n",
              "      <td>0.0</td>\n",
              "      <td>0.0</td>\n",
              "      <td>6334.440008</td>\n",
              "    </tr>\n",
              "  </tbody>\n",
              "</table>\n",
              "</div>"
            ],
            "text/plain": [
              "            ds        trend  ...  multiplicative_terms_upper         yhat\n",
              "343 2020-08-01  5200.687845  ...                         0.0  5240.612763\n",
              "344 2020-09-01  5216.751615  ...                         0.0  5083.379410\n",
              "345 2020-10-01  5232.297199  ...                         0.0  5188.922115\n",
              "346 2020-11-01  5248.360970  ...                         0.0  5336.217749\n",
              "347 2020-12-01  5263.906554  ...                         0.0  6334.440008\n",
              "\n",
              "[5 rows x 16 columns]"
            ]
          },
          "metadata": {
            "tags": []
          },
          "execution_count": 14
        }
      ]
    },
    {
      "cell_type": "code",
      "metadata": {
        "colab": {
          "base_uri": "https://localhost:8080/"
        },
        "id": "cDw934JtPWPP",
        "outputId": "db668a5a-d50c-4c1a-b824-f22d3b6fb431"
      },
      "source": [
        "forecast.columns"
      ],
      "execution_count": 15,
      "outputs": [
        {
          "output_type": "execute_result",
          "data": {
            "text/plain": [
              "Index(['ds', 'trend', 'yhat_lower', 'yhat_upper', 'trend_lower', 'trend_upper',\n",
              "       'additive_terms', 'additive_terms_lower', 'additive_terms_upper',\n",
              "       'yearly', 'yearly_lower', 'yearly_upper', 'multiplicative_terms',\n",
              "       'multiplicative_terms_lower', 'multiplicative_terms_upper', 'yhat'],\n",
              "      dtype='object')"
            ]
          },
          "metadata": {
            "tags": []
          },
          "execution_count": 15
        }
      ]
    },
    {
      "cell_type": "code",
      "metadata": {
        "colab": {
          "base_uri": "https://localhost:8080/",
          "height": 402
        },
        "id": "5lVsooAtPYlc",
        "outputId": "112e0926-15e1-4f3b-e55e-c880b490e4f4"
      },
      "source": [
        "forecast[['ds', 'yhat', 'yhat_lower', 'yhat_upper']].tail(12)"
      ],
      "execution_count": 16,
      "outputs": [
        {
          "output_type": "execute_result",
          "data": {
            "text/html": [
              "<div>\n",
              "<style scoped>\n",
              "    .dataframe tbody tr th:only-of-type {\n",
              "        vertical-align: middle;\n",
              "    }\n",
              "\n",
              "    .dataframe tbody tr th {\n",
              "        vertical-align: top;\n",
              "    }\n",
              "\n",
              "    .dataframe thead th {\n",
              "        text-align: right;\n",
              "    }\n",
              "</style>\n",
              "<table border=\"1\" class=\"dataframe\">\n",
              "  <thead>\n",
              "    <tr style=\"text-align: right;\">\n",
              "      <th></th>\n",
              "      <th>ds</th>\n",
              "      <th>yhat</th>\n",
              "      <th>yhat_lower</th>\n",
              "      <th>yhat_upper</th>\n",
              "    </tr>\n",
              "  </thead>\n",
              "  <tbody>\n",
              "    <tr>\n",
              "      <th>336</th>\n",
              "      <td>2020-01-01</td>\n",
              "      <td>4628.559148</td>\n",
              "      <td>4463.584840</td>\n",
              "      <td>4789.456864</td>\n",
              "    </tr>\n",
              "    <tr>\n",
              "      <th>337</th>\n",
              "      <td>2020-02-01</td>\n",
              "      <td>4679.231311</td>\n",
              "      <td>4510.444571</td>\n",
              "      <td>4831.540497</td>\n",
              "    </tr>\n",
              "    <tr>\n",
              "      <th>338</th>\n",
              "      <td>2020-03-01</td>\n",
              "      <td>4942.493052</td>\n",
              "      <td>4783.970949</td>\n",
              "      <td>5115.130673</td>\n",
              "    </tr>\n",
              "    <tr>\n",
              "      <th>339</th>\n",
              "      <td>2020-04-01</td>\n",
              "      <td>4941.412350</td>\n",
              "      <td>4784.842448</td>\n",
              "      <td>5116.819552</td>\n",
              "    </tr>\n",
              "    <tr>\n",
              "      <th>340</th>\n",
              "      <td>2020-05-01</td>\n",
              "      <td>5198.212046</td>\n",
              "      <td>5043.129232</td>\n",
              "      <td>5360.094678</td>\n",
              "    </tr>\n",
              "    <tr>\n",
              "      <th>341</th>\n",
              "      <td>2020-06-01</td>\n",
              "      <td>5178.840512</td>\n",
              "      <td>5023.237867</td>\n",
              "      <td>5340.714580</td>\n",
              "    </tr>\n",
              "    <tr>\n",
              "      <th>342</th>\n",
              "      <td>2020-07-01</td>\n",
              "      <td>5311.075537</td>\n",
              "      <td>5155.310089</td>\n",
              "      <td>5477.961966</td>\n",
              "    </tr>\n",
              "    <tr>\n",
              "      <th>343</th>\n",
              "      <td>2020-08-01</td>\n",
              "      <td>5240.612763</td>\n",
              "      <td>5081.612816</td>\n",
              "      <td>5403.518122</td>\n",
              "    </tr>\n",
              "    <tr>\n",
              "      <th>344</th>\n",
              "      <td>2020-09-01</td>\n",
              "      <td>5083.379410</td>\n",
              "      <td>4912.116197</td>\n",
              "      <td>5240.486149</td>\n",
              "    </tr>\n",
              "    <tr>\n",
              "      <th>345</th>\n",
              "      <td>2020-10-01</td>\n",
              "      <td>5188.922115</td>\n",
              "      <td>5020.108072</td>\n",
              "      <td>5344.628559</td>\n",
              "    </tr>\n",
              "    <tr>\n",
              "      <th>346</th>\n",
              "      <td>2020-11-01</td>\n",
              "      <td>5336.217749</td>\n",
              "      <td>5164.384449</td>\n",
              "      <td>5489.070742</td>\n",
              "    </tr>\n",
              "    <tr>\n",
              "      <th>347</th>\n",
              "      <td>2020-12-01</td>\n",
              "      <td>6334.440008</td>\n",
              "      <td>6156.933696</td>\n",
              "      <td>6488.031970</td>\n",
              "    </tr>\n",
              "  </tbody>\n",
              "</table>\n",
              "</div>"
            ],
            "text/plain": [
              "            ds         yhat   yhat_lower   yhat_upper\n",
              "336 2020-01-01  4628.559148  4463.584840  4789.456864\n",
              "337 2020-02-01  4679.231311  4510.444571  4831.540497\n",
              "338 2020-03-01  4942.493052  4783.970949  5115.130673\n",
              "339 2020-04-01  4941.412350  4784.842448  5116.819552\n",
              "340 2020-05-01  5198.212046  5043.129232  5360.094678\n",
              "341 2020-06-01  5178.840512  5023.237867  5340.714580\n",
              "342 2020-07-01  5311.075537  5155.310089  5477.961966\n",
              "343 2020-08-01  5240.612763  5081.612816  5403.518122\n",
              "344 2020-09-01  5083.379410  4912.116197  5240.486149\n",
              "345 2020-10-01  5188.922115  5020.108072  5344.628559\n",
              "346 2020-11-01  5336.217749  5164.384449  5489.070742\n",
              "347 2020-12-01  6334.440008  6156.933696  6488.031970"
            ]
          },
          "metadata": {
            "tags": []
          },
          "execution_count": 16
        }
      ]
    },
    {
      "cell_type": "code",
      "metadata": {
        "colab": {
          "base_uri": "https://localhost:8080/",
          "height": 441
        },
        "id": "5M8Q2d1wPhkQ",
        "outputId": "4478f2ba-468e-48ad-ca86-6dfe876a88ab"
      },
      "source": [
        "m.plot(forecast);"
      ],
      "execution_count": 17,
      "outputs": [
        {
          "output_type": "display_data",
          "data": {
            "image/png": "[encoded data removed]",
            "text/plain": [
              "<Figure size 720x432 with 1 Axes>"
            ]
          },
          "metadata": {
            "tags": []
          }
        }
      ]
    },
    {
      "cell_type": "code",
      "metadata": {
        "colab": {
          "base_uri": "https://localhost:8080/",
          "height": 296
        },
        "id": "m2NrItStPrE1",
        "outputId": "991e7870-2ec3-405a-dec9-5046437a113e"
      },
      "source": [
        "forecast.plot(x='ds',y='yhat')"
      ],
      "execution_count": 23,
      "outputs": [
        {
          "output_type": "execute_result",
          "data": {
            "text/plain": [
              "<matplotlib.axes._subplots.AxesSubplot at 0x7fa82fffb110>"
            ]
          },
          "metadata": {
            "tags": []
          },
          "execution_count": 23
        },
        {
          "output_type": "display_data",
          "data": {
            "image/png": "[encoded data removed]",
            "text/plain": [
              "<Figure size 432x288 with 1 Axes>"
            ]
          },
          "metadata": {
            "tags": [],
            "needs_background": "light"
          }
        }
      ]
    },
    {
      "cell_type": "code",
      "metadata": {
        "colab": {
          "base_uri": "https://localhost:8080/",
          "height": 441
        },
        "id": "Ld8Wsg4qQYrU",
        "outputId": "472d0fa8-c2fb-4115-d50e-cb6072da6cae"
      },
      "source": [
        "m.plot_components(forecast);"
      ],
      "execution_count": 24,
      "outputs": [
        {
          "output_type": "display_data",
          "data": {
            "image/png": "[encoded data removed]",
            "text/plain": [
              "<Figure size 648x432 with 2 Axes>"
            ]
          },
          "metadata": {
            "tags": []
          }
        }
      ]
    },
    {
      "cell_type": "markdown",
      "metadata": {
        "id": "D88NgA8emyv0"
      },
      "source": [
        "## **Evaluation**"
      ]
    },
    {
      "cell_type": "code",
      "metadata": {
        "id": "YW6Ib-ZgQbJe"
      },
      "source": [
        "df = pd.read_csv('Miles_Traveled.csv')"
      ],
      "execution_count": 3,
      "outputs": []
    },
    {
      "cell_type": "code",
      "metadata": {
        "colab": {
          "base_uri": "https://localhost:8080/",
          "height": 195
        },
        "id": "YeSaJQV7m-kj",
        "outputId": "016021b8-1d4f-4ac5-9000-331e8b0aa707"
      },
      "source": [
        "df.head()"
      ],
      "execution_count": 4,
      "outputs": [
        {
          "output_type": "execute_result",
          "data": {
            "text/html": [
              "<div>\n",
              "<style scoped>\n",
              "    .dataframe tbody tr th:only-of-type {\n",
              "        vertical-align: middle;\n",
              "    }\n",
              "\n",
              "    .dataframe tbody tr th {\n",
              "        vertical-align: top;\n",
              "    }\n",
              "\n",
              "    .dataframe thead th {\n",
              "        text-align: right;\n",
              "    }\n",
              "</style>\n",
              "<table border=\"1\" class=\"dataframe\">\n",
              "  <thead>\n",
              "    <tr style=\"text-align: right;\">\n",
              "      <th></th>\n",
              "      <th>DATE</th>\n",
              "      <th>TRFVOLUSM227NFWA</th>\n",
              "    </tr>\n",
              "  </thead>\n",
              "  <tbody>\n",
              "    <tr>\n",
              "      <th>0</th>\n",
              "      <td>1970-01-01</td>\n",
              "      <td>80173.0</td>\n",
              "    </tr>\n",
              "    <tr>\n",
              "      <th>1</th>\n",
              "      <td>1970-02-01</td>\n",
              "      <td>77442.0</td>\n",
              "    </tr>\n",
              "    <tr>\n",
              "      <th>2</th>\n",
              "      <td>1970-03-01</td>\n",
              "      <td>90223.0</td>\n",
              "    </tr>\n",
              "    <tr>\n",
              "      <th>3</th>\n",
              "      <td>1970-04-01</td>\n",
              "      <td>89956.0</td>\n",
              "    </tr>\n",
              "    <tr>\n",
              "      <th>4</th>\n",
              "      <td>1970-05-01</td>\n",
              "      <td>97972.0</td>\n",
              "    </tr>\n",
              "  </tbody>\n",
              "</table>\n",
              "</div>"
            ],
            "text/plain": [
              "         DATE  TRFVOLUSM227NFWA\n",
              "0  1970-01-01           80173.0\n",
              "1  1970-02-01           77442.0\n",
              "2  1970-03-01           90223.0\n",
              "3  1970-04-01           89956.0\n",
              "4  1970-05-01           97972.0"
            ]
          },
          "metadata": {
            "tags": []
          },
          "execution_count": 4
        }
      ]
    },
    {
      "cell_type": "code",
      "metadata": {
        "id": "loNoy8LrnFav"
      },
      "source": [
        "df.columns = ['ds','y']"
      ],
      "execution_count": 5,
      "outputs": []
    },
    {
      "cell_type": "code",
      "metadata": {
        "id": "6AaHpLrYnIMI"
      },
      "source": [
        "df['ds'] = pd.to_datetime(df['ds'])"
      ],
      "execution_count": 6,
      "outputs": []
    },
    {
      "cell_type": "code",
      "metadata": {
        "colab": {
          "base_uri": "https://localhost:8080/",
          "height": 195
        },
        "id": "0WvGukEFnKrs",
        "outputId": "13e33ce4-4383-4072-f9ed-a7a0fefe966f"
      },
      "source": [
        "df.head()"
      ],
      "execution_count": 7,
      "outputs": [
        {
          "output_type": "execute_result",
          "data": {
            "text/html": [
              "<div>\n",
              "<style scoped>\n",
              "    .dataframe tbody tr th:only-of-type {\n",
              "        vertical-align: middle;\n",
              "    }\n",
              "\n",
              "    .dataframe tbody tr th {\n",
              "        vertical-align: top;\n",
              "    }\n",
              "\n",
              "    .dataframe thead th {\n",
              "        text-align: right;\n",
              "    }\n",
              "</style>\n",
              "<table border=\"1\" class=\"dataframe\">\n",
              "  <thead>\n",
              "    <tr style=\"text-align: right;\">\n",
              "      <th></th>\n",
              "      <th>ds</th>\n",
              "      <th>y</th>\n",
              "    </tr>\n",
              "  </thead>\n",
              "  <tbody>\n",
              "    <tr>\n",
              "      <th>0</th>\n",
              "      <td>1970-01-01</td>\n",
              "      <td>80173.0</td>\n",
              "    </tr>\n",
              "    <tr>\n",
              "      <th>1</th>\n",
              "      <td>1970-02-01</td>\n",
              "      <td>77442.0</td>\n",
              "    </tr>\n",
              "    <tr>\n",
              "      <th>2</th>\n",
              "      <td>1970-03-01</td>\n",
              "      <td>90223.0</td>\n",
              "    </tr>\n",
              "    <tr>\n",
              "      <th>3</th>\n",
              "      <td>1970-04-01</td>\n",
              "      <td>89956.0</td>\n",
              "    </tr>\n",
              "    <tr>\n",
              "      <th>4</th>\n",
              "      <td>1970-05-01</td>\n",
              "      <td>97972.0</td>\n",
              "    </tr>\n",
              "  </tbody>\n",
              "</table>\n",
              "</div>"
            ],
            "text/plain": [
              "          ds        y\n",
              "0 1970-01-01  80173.0\n",
              "1 1970-02-01  77442.0\n",
              "2 1970-03-01  90223.0\n",
              "3 1970-04-01  89956.0\n",
              "4 1970-05-01  97972.0"
            ]
          },
          "metadata": {
            "tags": []
          },
          "execution_count": 7
        }
      ]
    },
    {
      "cell_type": "code",
      "metadata": {
        "colab": {
          "base_uri": "https://localhost:8080/",
          "height": 405
        },
        "id": "Bt_Z3_BknZOB",
        "outputId": "f851b36c-2ce8-489a-afae-533368827a88"
      },
      "source": [
        "df.plot(x='ds',y='y',figsize=(18,6))"
      ],
      "execution_count": 8,
      "outputs": [
        {
          "output_type": "execute_result",
          "data": {
            "text/plain": [
              "<matplotlib.axes._subplots.AxesSubplot at 0x7f6368898810>"
            ]
          },
          "metadata": {
            "tags": []
          },
          "execution_count": 8
        },
        {
          "output_type": "display_data",
          "data": {
            "image/png": "[encoded data removed]",
            "text/plain": [
              "<Figure size 1296x432 with 1 Axes>"
            ]
          },
          "metadata": {
            "tags": [],
            "needs_background": "light"
          }
        }
      ]
    },
    {
      "cell_type": "code",
      "metadata": {
        "colab": {
          "base_uri": "https://localhost:8080/"
        },
        "id": "j0O0Wc4Tneg8",
        "outputId": "95a272c7-68a4-4dec-b7f7-dc3bb30370a9"
      },
      "source": [
        "len(df)"
      ],
      "execution_count": 9,
      "outputs": [
        {
          "output_type": "execute_result",
          "data": {
            "text/plain": [
              "588"
            ]
          },
          "metadata": {
            "tags": []
          },
          "execution_count": 9
        }
      ]
    },
    {
      "cell_type": "code",
      "metadata": {
        "colab": {
          "base_uri": "https://localhost:8080/"
        },
        "id": "LtPyjNm0niqu",
        "outputId": "233215dc-52e0-4e98-9c42-1e593e62b82f"
      },
      "source": [
        "len(df) - 12"
      ],
      "execution_count": 10,
      "outputs": [
        {
          "output_type": "execute_result",
          "data": {
            "text/plain": [
              "576"
            ]
          },
          "metadata": {
            "tags": []
          },
          "execution_count": 10
        }
      ]
    },
    {
      "cell_type": "code",
      "metadata": {
        "id": "N9G6sQlinkax"
      },
      "source": [
        "train = df.iloc[:576]\n",
        "test = df.iloc[576:]"
      ],
      "execution_count": 11,
      "outputs": []
    },
    {
      "cell_type": "code",
      "metadata": {
        "colab": {
          "base_uri": "https://localhost:8080/"
        },
        "id": "racEvE4cnpfI",
        "outputId": "316486f7-2ca2-40b4-f2d2-13cb14079274"
      },
      "source": [
        "m = Prophet()\n",
        "m.fit(train)\n",
        "future = m.make_future_dataframe(periods=12,freq='MS')\n",
        "forecast = m.predict(future)"
      ],
      "execution_count": 12,
      "outputs": [
        {
          "output_type": "stream",
          "text": [
            "INFO:numexpr.utils:NumExpr defaulting to 2 threads.\n",
            "INFO:fbprophet:Disabling weekly seasonality. Run prophet with weekly_seasonality=True to override this.\n",
            "INFO:fbprophet:Disabling daily seasonality. Run prophet with daily_seasonality=True to override this.\n"
          ],
          "name": "stderr"
        }
      ]
    },
    {
      "cell_type": "code",
      "metadata": {
        "colab": {
          "base_uri": "https://localhost:8080/",
          "height": 299
        },
        "id": "_aHTGoUBn5YY",
        "outputId": "5f754acb-af15-4903-92d0-35c7bcb70f02"
      },
      "source": [
        "forecast.tail()"
      ],
      "execution_count": 13,
      "outputs": [
        {
          "output_type": "execute_result",
          "data": {
            "text/html": [
              "<div>\n",
              "<style scoped>\n",
              "    .dataframe tbody tr th:only-of-type {\n",
              "        vertical-align: middle;\n",
              "    }\n",
              "\n",
              "    .dataframe tbody tr th {\n",
              "        vertical-align: top;\n",
              "    }\n",
              "\n",
              "    .dataframe thead th {\n",
              "        text-align: right;\n",
              "    }\n",
              "</style>\n",
              "<table border=\"1\" class=\"dataframe\">\n",
              "  <thead>\n",
              "    <tr style=\"text-align: right;\">\n",
              "      <th></th>\n",
              "      <th>ds</th>\n",
              "      <th>trend</th>\n",
              "      <th>yhat_lower</th>\n",
              "      <th>yhat_upper</th>\n",
              "      <th>trend_lower</th>\n",
              "      <th>trend_upper</th>\n",
              "      <th>additive_terms</th>\n",
              "      <th>additive_terms_lower</th>\n",
              "      <th>additive_terms_upper</th>\n",
              "      <th>yearly</th>\n",
              "      <th>yearly_lower</th>\n",
              "      <th>yearly_upper</th>\n",
              "      <th>multiplicative_terms</th>\n",
              "      <th>multiplicative_terms_lower</th>\n",
              "      <th>multiplicative_terms_upper</th>\n",
              "      <th>yhat</th>\n",
              "    </tr>\n",
              "  </thead>\n",
              "  <tbody>\n",
              "    <tr>\n",
              "      <th>583</th>\n",
              "      <td>2018-08-01</td>\n",
              "      <td>263457.725002</td>\n",
              "      <td>274125.939177</td>\n",
              "      <td>285572.444990</td>\n",
              "      <td>263386.208584</td>\n",
              "      <td>263491.591586</td>\n",
              "      <td>16443.644514</td>\n",
              "      <td>16443.644514</td>\n",
              "      <td>16443.644514</td>\n",
              "      <td>16443.644514</td>\n",
              "      <td>16443.644514</td>\n",
              "      <td>16443.644514</td>\n",
              "      <td>0.0</td>\n",
              "      <td>0.0</td>\n",
              "      <td>0.0</td>\n",
              "      <td>279901.369516</td>\n",
              "    </tr>\n",
              "    <tr>\n",
              "      <th>584</th>\n",
              "      <td>2018-09-01</td>\n",
              "      <td>263600.413936</td>\n",
              "      <td>256182.672877</td>\n",
              "      <td>267420.111115</td>\n",
              "      <td>263495.929950</td>\n",
              "      <td>263661.925642</td>\n",
              "      <td>-1674.285262</td>\n",
              "      <td>-1674.285262</td>\n",
              "      <td>-1674.285262</td>\n",
              "      <td>-1674.285262</td>\n",
              "      <td>-1674.285262</td>\n",
              "      <td>-1674.285262</td>\n",
              "      <td>0.0</td>\n",
              "      <td>0.0</td>\n",
              "      <td>0.0</td>\n",
              "      <td>261926.128674</td>\n",
              "    </tr>\n",
              "    <tr>\n",
              "      <th>585</th>\n",
              "      <td>2018-10-01</td>\n",
              "      <td>263738.500000</td>\n",
              "      <td>263264.691794</td>\n",
              "      <td>274513.454673</td>\n",
              "      <td>263583.947554</td>\n",
              "      <td>263819.730072</td>\n",
              "      <td>5300.999421</td>\n",
              "      <td>5300.999421</td>\n",
              "      <td>5300.999421</td>\n",
              "      <td>5300.999421</td>\n",
              "      <td>5300.999421</td>\n",
              "      <td>5300.999421</td>\n",
              "      <td>0.0</td>\n",
              "      <td>0.0</td>\n",
              "      <td>0.0</td>\n",
              "      <td>269039.499421</td>\n",
              "    </tr>\n",
              "    <tr>\n",
              "      <th>586</th>\n",
              "      <td>2018-11-01</td>\n",
              "      <td>263881.188934</td>\n",
              "      <td>250101.636471</td>\n",
              "      <td>261330.596947</td>\n",
              "      <td>263691.343774</td>\n",
              "      <td>263985.841490</td>\n",
              "      <td>-8214.645301</td>\n",
              "      <td>-8214.645301</td>\n",
              "      <td>-8214.645301</td>\n",
              "      <td>-8214.645301</td>\n",
              "      <td>-8214.645301</td>\n",
              "      <td>-8214.645301</td>\n",
              "      <td>0.0</td>\n",
              "      <td>0.0</td>\n",
              "      <td>0.0</td>\n",
              "      <td>255666.543633</td>\n",
              "    </tr>\n",
              "    <tr>\n",
              "      <th>587</th>\n",
              "      <td>2018-12-01</td>\n",
              "      <td>264019.274999</td>\n",
              "      <td>251550.302923</td>\n",
              "      <td>262909.970282</td>\n",
              "      <td>263792.360330</td>\n",
              "      <td>264158.475111</td>\n",
              "      <td>-6925.081926</td>\n",
              "      <td>-6925.081926</td>\n",
              "      <td>-6925.081926</td>\n",
              "      <td>-6925.081926</td>\n",
              "      <td>-6925.081926</td>\n",
              "      <td>-6925.081926</td>\n",
              "      <td>0.0</td>\n",
              "      <td>0.0</td>\n",
              "      <td>0.0</td>\n",
              "      <td>257094.193073</td>\n",
              "    </tr>\n",
              "  </tbody>\n",
              "</table>\n",
              "</div>"
            ],
            "text/plain": [
              "            ds          trend  ...  multiplicative_terms_upper           yhat\n",
              "583 2018-08-01  263457.725002  ...                         0.0  279901.369516\n",
              "584 2018-09-01  263600.413936  ...                         0.0  261926.128674\n",
              "585 2018-10-01  263738.500000  ...                         0.0  269039.499421\n",
              "586 2018-11-01  263881.188934  ...                         0.0  255666.543633\n",
              "587 2018-12-01  264019.274999  ...                         0.0  257094.193073\n",
              "\n",
              "[5 rows x 16 columns]"
            ]
          },
          "metadata": {
            "tags": []
          },
          "execution_count": 13
        }
      ]
    },
    {
      "cell_type": "code",
      "metadata": {
        "colab": {
          "base_uri": "https://localhost:8080/",
          "height": 195
        },
        "id": "F2Gi3jJfn9D2",
        "outputId": "62efbd91-46be-48b7-c194-9d2c60c575ee"
      },
      "source": [
        "test.tail()"
      ],
      "execution_count": 14,
      "outputs": [
        {
          "output_type": "execute_result",
          "data": {
            "text/html": [
              "<div>\n",
              "<style scoped>\n",
              "    .dataframe tbody tr th:only-of-type {\n",
              "        vertical-align: middle;\n",
              "    }\n",
              "\n",
              "    .dataframe tbody tr th {\n",
              "        vertical-align: top;\n",
              "    }\n",
              "\n",
              "    .dataframe thead th {\n",
              "        text-align: right;\n",
              "    }\n",
              "</style>\n",
              "<table border=\"1\" class=\"dataframe\">\n",
              "  <thead>\n",
              "    <tr style=\"text-align: right;\">\n",
              "      <th></th>\n",
              "      <th>ds</th>\n",
              "      <th>y</th>\n",
              "    </tr>\n",
              "  </thead>\n",
              "  <tbody>\n",
              "    <tr>\n",
              "      <th>583</th>\n",
              "      <td>2018-08-01</td>\n",
              "      <td>286608.0</td>\n",
              "    </tr>\n",
              "    <tr>\n",
              "      <th>584</th>\n",
              "      <td>2018-09-01</td>\n",
              "      <td>260595.0</td>\n",
              "    </tr>\n",
              "    <tr>\n",
              "      <th>585</th>\n",
              "      <td>2018-10-01</td>\n",
              "      <td>282174.0</td>\n",
              "    </tr>\n",
              "    <tr>\n",
              "      <th>586</th>\n",
              "      <td>2018-11-01</td>\n",
              "      <td>258590.0</td>\n",
              "    </tr>\n",
              "    <tr>\n",
              "      <th>587</th>\n",
              "      <td>2018-12-01</td>\n",
              "      <td>268413.0</td>\n",
              "    </tr>\n",
              "  </tbody>\n",
              "</table>\n",
              "</div>"
            ],
            "text/plain": [
              "            ds         y\n",
              "583 2018-08-01  286608.0\n",
              "584 2018-09-01  260595.0\n",
              "585 2018-10-01  282174.0\n",
              "586 2018-11-01  258590.0\n",
              "587 2018-12-01  268413.0"
            ]
          },
          "metadata": {
            "tags": []
          },
          "execution_count": 14
        }
      ]
    },
    {
      "cell_type": "code",
      "metadata": {
        "colab": {
          "base_uri": "https://localhost:8080/",
          "height": 525
        },
        "id": "mhpd9KDVouGl",
        "outputId": "327d51ca-0b3e-4344-867b-ed2d1afbb494"
      },
      "source": [
        "ax = forecast.plot(x='ds',y='yhat',label='Predictions',legend=True,figsize=(12,8))\n",
        "\n",
        "test.plot(x='ds',y='y',label='True Miles',legend=True,ax=ax,xlim=('2018-01-01','2019-01-01'))"
      ],
      "execution_count": 15,
      "outputs": [
        {
          "output_type": "execute_result",
          "data": {
            "text/plain": [
              "<matplotlib.axes._subplots.AxesSubplot at 0x7f634dc7e5d0>"
            ]
          },
          "metadata": {
            "tags": []
          },
          "execution_count": 15
        },
        {
          "output_type": "display_data",
          "data": {
            "image/png": "[encoded data removed]",
            "text/plain": [
              "<Figure size 864x576 with 1 Axes>"
            ]
          },
          "metadata": {
            "tags": [],
            "needs_background": "light"
          }
        }
      ]
    },
    {
      "cell_type": "code",
      "metadata": {
        "colab": {
          "base_uri": "https://localhost:8080/"
        },
        "id": "1XXepdPQo1Jg",
        "outputId": "97e29ae6-be4c-46e9-e1b2-989ad92fc51b"
      },
      "source": [
        "from statsmodels.tools.eval_measures import rmse"
      ],
      "execution_count": 16,
      "outputs": [
        {
          "output_type": "stream",
          "text": [
            "/usr/local/lib/python3.7/dist-packages/statsmodels/tools/_testing.py:19: FutureWarning:\n",
            "\n",
            "pandas.util.testing is deprecated. Use the functions in the public API at pandas.testing instead.\n",
            "\n"
          ],
          "name": "stderr"
        }
      ]
    },
    {
      "cell_type": "code",
      "metadata": {
        "id": "IAZYlf6Go4PW"
      },
      "source": [
        "predictions = forecast.iloc[-12:]['yhat']"
      ],
      "execution_count": 17,
      "outputs": []
    },
    {
      "cell_type": "code",
      "metadata": {
        "colab": {
          "base_uri": "https://localhost:8080/"
        },
        "id": "vMHT3zGbpAuk",
        "outputId": "6f37b848-23ab-4967-d855-c44180649371"
      },
      "source": [
        "predictions"
      ],
      "execution_count": 18,
      "outputs": [
        {
          "output_type": "execute_result",
          "data": {
            "text/plain": [
              "576    243890.540695\n",
              "577    235518.185920\n",
              "578    262721.044615\n",
              "579    262926.543476\n",
              "580    272653.963220\n",
              "581    272904.801470\n",
              "582    279365.372083\n",
              "583    279901.369516\n",
              "584    261926.128674\n",
              "585    269039.499421\n",
              "586    255666.543633\n",
              "587    257094.193073\n",
              "Name: yhat, dtype: float64"
            ]
          },
          "metadata": {
            "tags": []
          },
          "execution_count": 18
        }
      ]
    },
    {
      "cell_type": "code",
      "metadata": {
        "colab": {
          "base_uri": "https://localhost:8080/"
        },
        "id": "6u6VuBDepDWj",
        "outputId": "4c2d0cb3-7324-45a1-d509-d83e7dd1de0d"
      },
      "source": [
        "test['y']"
      ],
      "execution_count": 19,
      "outputs": [
        {
          "output_type": "execute_result",
          "data": {
            "text/plain": [
              "576    245695.0\n",
              "577    226660.0\n",
              "578    268480.0\n",
              "579    272475.0\n",
              "580    286164.0\n",
              "581    280877.0\n",
              "582    288145.0\n",
              "583    286608.0\n",
              "584    260595.0\n",
              "585    282174.0\n",
              "586    258590.0\n",
              "587    268413.0\n",
              "Name: y, dtype: float64"
            ]
          },
          "metadata": {
            "tags": []
          },
          "execution_count": 19
        }
      ]
    },
    {
      "cell_type": "code",
      "metadata": {
        "colab": {
          "base_uri": "https://localhost:8080/"
        },
        "id": "xm_5kayypNZz",
        "outputId": "429991d6-5d09-4ea0-847d-4cf4b7753b24"
      },
      "source": [
        "rmse(predictions,test['y'])"
      ],
      "execution_count": 20,
      "outputs": [
        {
          "output_type": "execute_result",
          "data": {
            "text/plain": [
              "8588.50451989775"
            ]
          },
          "metadata": {
            "tags": []
          },
          "execution_count": 20
        }
      ]
    },
    {
      "cell_type": "code",
      "metadata": {
        "colab": {
          "base_uri": "https://localhost:8080/"
        },
        "id": "mzjPHcT5pP5v",
        "outputId": "5813209d-7827-4e16-cf59-9efcb8606572"
      },
      "source": [
        "test.mean()"
      ],
      "execution_count": 21,
      "outputs": [
        {
          "output_type": "stream",
          "text": [
            "/usr/local/lib/python3.7/dist-packages/ipykernel_launcher.py:1: FutureWarning:\n",
            "\n",
            "DataFrame.mean and DataFrame.median with numeric_only=None will include datetime64 and datetime64tz columns in a future version.\n",
            "\n"
          ],
          "name": "stderr"
        },
        {
          "output_type": "execute_result",
          "data": {
            "text/plain": [
              "y    268739.666667\n",
              "dtype: float64"
            ]
          },
          "metadata": {
            "tags": []
          },
          "execution_count": 21
        }
      ]
    },
    {
      "cell_type": "code",
      "metadata": {
        "id": "vAxOvtLrpSmq"
      },
      "source": [
        ""
      ],
      "execution_count": null,
      "outputs": []
    }
  ]
}